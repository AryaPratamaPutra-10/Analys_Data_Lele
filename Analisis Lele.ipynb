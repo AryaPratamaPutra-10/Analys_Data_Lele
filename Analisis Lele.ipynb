{
  "cells": [
    {
      "cell_type": "markdown",
      "metadata": {
        "id": "view-in-github",
        "colab_type": "text"
      },
      "source": [
        "<a href=\"https://colab.research.google.com/github/AryaPratamaPutra-10/Analys_Data_Lele/blob/main/Analisis%20Lele.ipynb\" target=\"_parent\"><img src=\"https://colab.research.google.com/assets/colab-badge.svg\" alt=\"Open In Colab\"/></a>"
      ]
    },
    {
      "cell_type": "code",
      "execution_count": 1,
      "metadata": {
        "id": "lIYdn1woOS1n"
      },
      "outputs": [],
      "source": [
        "import pandas as pd\n",
        "import numpy as np\n",
        "import matplotlib.pyplot as plt\n",
        "import seaborn as sns\n",
        "\n",
        "from IPython import get_ipython\n",
        "from IPython.display import display\n",
        "\n",
        "from sklearn.model_selection import train_test_split\n",
        "from sklearn.preprocessing import StandardScaler\n",
        "from sklearn.linear_model import LinearRegression\n",
        "# atau algoritma lain seperti RandomForestRegressor, SVR, dll.\n",
        "from sklearn.metrics import mean_squared_error, r2_score"
      ]
    },
    {
      "cell_type": "code",
      "source": [
        "import pandas as pd\n",
        "\n",
        "# Correct URL to access the raw data on GitHub\n",
        "data = pd.read_csv ('https://raw.githubusercontent.com/AryaPratamaPutra-10/Analys_Data_Lele/1ceadbc02bb52457cabc99b081ef6cffd5c1ae25/Data_Lele.csv',\n",
        "sep=';')\n",
        "\n",
        "data.info()\n",
        "# Menampilkan semua baris\n",
        "#pd.set_option('display.max_rows', None)\n",
        "\n",
        "# Menampilkan semua kolom\n",
        "#pd.set_option('display.max_columns', None)\n",
        "\n",
        "# Menampilkan lebar kolom agar muat\n",
        "#pd.set_option('display.width', None)\n",
        "\n",
        "# Sekarang, data.head() akan menampilkan semua data\n",
        "# To display the first few rows of the dataset:\n",
        "# print(df.head())  # Default shows the first 5 rows\n",
        "# print(df.head(10))  # To show the first 10 rows\n",
        "\n",
        "# To display the last few rows of the dataset:\n",
        "# print(df.tail())  # Default shows the last 5 rows\n",
        "# print(df.tail(10))  # To show the last 10 rows\n",
        "# data_long = pd.melt(data, id_vars=['Provinsi', 'Kabupaten/Kota', 'Jenis_Ikan', 'Tahun'],\n",
        "                    #var_name='Variabel', value_name='Nilai')\n",
        "# To display a random sample of rows:\n",
        "#print(df.sample(5))  # Show 5 random rows\n",
        "#display(df.style.set_properties(**{'text-align': 'left'}))"
      ],
      "metadata": {
        "id": "CzK5FOO4NN_P",
        "outputId": "7826094b-f21d-4ce0-e30c-679782c2a8b6",
        "colab": {
          "base_uri": "https://localhost:8080/"
        }
      },
      "execution_count": 3,
      "outputs": [
        {
          "output_type": "stream",
          "name": "stdout",
          "text": [
            "<class 'pandas.core.frame.DataFrame'>\n",
            "RangeIndex: 500 entries, 0 to 499\n",
            "Data columns (total 8 columns):\n",
            " #   Column                                    Non-Null Count  Dtype  \n",
            "---  ------                                    --------------  -----  \n",
            " 0   Provinsi                                  500 non-null    object \n",
            " 1   Kabupaten/Kota                            500 non-null    object \n",
            " 2   Jenis_Ikan                                500 non-null    object \n",
            " 3   Tahun                                     500 non-null    int64  \n",
            " 4   Volume_Produksi                           500 non-null    object \n",
            " 5   Nilai_Produksi                            500 non-null    object \n",
            " 6   Harga_Lele                                500 non-null    object \n",
            " 7                                             0 non-null      float64\n",
            "dtypes: float64(1), int64(1), object(6)\n",
            "memory usage: 31.4+ KB\n"
          ]
        }
      ]
    },
    {
      "cell_type": "code",
      "source": [
        "data.isnull().sum()"
      ],
      "metadata": {
        "id": "w8e8KDJpuDDz",
        "outputId": "be29c302-8257-45c3-f56d-c71ff7b2d2f6",
        "colab": {
          "base_uri": "https://localhost:8080/",
          "height": 335
        }
      },
      "execution_count": null,
      "outputs": [
        {
          "output_type": "execute_result",
          "data": {
            "text/plain": [
              "Provinsi                                      0\n",
              "Kabupaten/Kota                                0\n",
              "Jenis_Ikan                                    0\n",
              "Tahun                                         0\n",
              "Volume_Produksi                               0\n",
              "Nilai_Produksi                                0\n",
              "Harga_Lele                                    0\n",
              "                                            500\n",
              "dtype: int64"
            ],
            "text/html": [
              "<div>\n",
              "<style scoped>\n",
              "    .dataframe tbody tr th:only-of-type {\n",
              "        vertical-align: middle;\n",
              "    }\n",
              "\n",
              "    .dataframe tbody tr th {\n",
              "        vertical-align: top;\n",
              "    }\n",
              "\n",
              "    .dataframe thead th {\n",
              "        text-align: right;\n",
              "    }\n",
              "</style>\n",
              "<table border=\"1\" class=\"dataframe\">\n",
              "  <thead>\n",
              "    <tr style=\"text-align: right;\">\n",
              "      <th></th>\n",
              "      <th>0</th>\n",
              "    </tr>\n",
              "  </thead>\n",
              "  <tbody>\n",
              "    <tr>\n",
              "      <th>Provinsi</th>\n",
              "      <td>0</td>\n",
              "    </tr>\n",
              "    <tr>\n",
              "      <th>Kabupaten/Kota</th>\n",
              "      <td>0</td>\n",
              "    </tr>\n",
              "    <tr>\n",
              "      <th>Jenis_Ikan</th>\n",
              "      <td>0</td>\n",
              "    </tr>\n",
              "    <tr>\n",
              "      <th>Tahun</th>\n",
              "      <td>0</td>\n",
              "    </tr>\n",
              "    <tr>\n",
              "      <th>Volume_Produksi</th>\n",
              "      <td>0</td>\n",
              "    </tr>\n",
              "    <tr>\n",
              "      <th>Nilai_Produksi</th>\n",
              "      <td>0</td>\n",
              "    </tr>\n",
              "    <tr>\n",
              "      <th>Harga_Lele</th>\n",
              "      <td>0</td>\n",
              "    </tr>\n",
              "    <tr>\n",
              "      <th></th>\n",
              "      <td>500</td>\n",
              "    </tr>\n",
              "  </tbody>\n",
              "</table>\n",
              "</div><br><label><b>dtype:</b> int64</label>"
            ]
          },
          "metadata": {},
          "execution_count": 49
        }
      ]
    },
    {
      "cell_type": "code",
      "source": [
        "df.info()"
      ],
      "metadata": {
        "id": "OqcpULGy35fe",
        "outputId": "5d80f209-a7bc-497c-e877-cb2b63a66c44",
        "colab": {
          "base_uri": "https://localhost:8080/"
        }
      },
      "execution_count": null,
      "outputs": [
        {
          "output_type": "stream",
          "name": "stdout",
          "text": [
            "<class 'pandas.core.frame.DataFrame'>\n",
            "RangeIndex: 500 entries, 0 to 499\n",
            "Data columns (total 1 columns):\n",
            " #   Column                                                                                                                       Non-Null Count  Dtype \n",
            "---  ------                                                                                                                       --------------  ----- \n",
            " 0   Provinsi;Kabupaten/Kota;Jenis_Ikan;Tahun;Volume_Produksi;Nilai_Produksi;Harga_Lele;                                          500 non-null    object\n",
            "dtypes: object(1)\n",
            "memory usage: 4.0+ KB\n"
          ]
        }
      ]
    },
    {
      "cell_type": "code",
      "source": [
        "df.describe()"
      ],
      "metadata": {
        "id": "XZOWF4YG7dDE",
        "outputId": "99314742-cde1-4509-fb1c-ea049f388010",
        "colab": {
          "base_uri": "https://localhost:8080/",
          "height": 834
        }
      },
      "execution_count": null,
      "outputs": [
        {
          "output_type": "execute_result",
          "data": {
            "text/plain": [
              "       Provinsi;Kabupaten/Kota;Jenis_Ikan;Tahun;Volume_Produksi;Nilai_Produksi;Harga_Lele;                                        \n",
              "count                                                 500                                                                         \n",
              "unique                                                500                                                                         \n",
              "top     JAWA BARAT;BANDUNG;LELE;2019;5.372.785 ; Rp85....                                                                         \n",
              "freq                                                    1                                                                         "
            ],
            "text/html": [
              "\n",
              "  <div id=\"df-1e1e16f9-892d-4692-8ed6-a3fd46531386\" class=\"colab-df-container\">\n",
              "    <div>\n",
              "<style scoped>\n",
              "    .dataframe tbody tr th:only-of-type {\n",
              "        vertical-align: middle;\n",
              "    }\n",
              "\n",
              "    .dataframe tbody tr th {\n",
              "        vertical-align: top;\n",
              "    }\n",
              "\n",
              "    .dataframe thead th {\n",
              "        text-align: right;\n",
              "    }\n",
              "</style>\n",
              "<table border=\"1\" class=\"dataframe\">\n",
              "  <thead>\n",
              "    <tr style=\"text-align: right;\">\n",
              "      <th></th>\n",
              "      <th>Provinsi;Kabupaten/Kota;Jenis_Ikan;Tahun;Volume_Produksi;Nilai_Produksi;Harga_Lele;</th>\n",
              "    </tr>\n",
              "  </thead>\n",
              "  <tbody>\n",
              "    <tr>\n",
              "      <th>count</th>\n",
              "      <td>500</td>\n",
              "    </tr>\n",
              "    <tr>\n",
              "      <th>unique</th>\n",
              "      <td>500</td>\n",
              "    </tr>\n",
              "    <tr>\n",
              "      <th>top</th>\n",
              "      <td>JAWA BARAT;BANDUNG;LELE;2019;5.372.785 ; Rp85....</td>\n",
              "    </tr>\n",
              "    <tr>\n",
              "      <th>freq</th>\n",
              "      <td>1</td>\n",
              "    </tr>\n",
              "  </tbody>\n",
              "</table>\n",
              "</div>\n",
              "    <div class=\"colab-df-buttons\">\n",
              "\n",
              "  <div class=\"colab-df-container\">\n",
              "    <button class=\"colab-df-convert\" onclick=\"convertToInteractive('df-1e1e16f9-892d-4692-8ed6-a3fd46531386')\"\n",
              "            title=\"Convert this dataframe to an interactive table.\"\n",
              "            style=\"display:none;\">\n",
              "\n",
              "  <svg xmlns=\"http://www.w3.org/2000/svg\" height=\"24px\" viewBox=\"0 -960 960 960\">\n",
              "    <path d=\"M120-120v-720h720v720H120Zm60-500h600v-160H180v160Zm220 220h160v-160H400v160Zm0 220h160v-160H400v160ZM180-400h160v-160H180v160Zm440 0h160v-160H620v160ZM180-180h160v-160H180v160Zm440 0h160v-160H620v160Z\"/>\n",
              "  </svg>\n",
              "    </button>\n",
              "\n",
              "  <style>\n",
              "    .colab-df-container {\n",
              "      display:flex;\n",
              "      gap: 12px;\n",
              "    }\n",
              "\n",
              "    .colab-df-convert {\n",
              "      background-color: #E8F0FE;\n",
              "      border: none;\n",
              "      border-radius: 50%;\n",
              "      cursor: pointer;\n",
              "      display: none;\n",
              "      fill: #1967D2;\n",
              "      height: 32px;\n",
              "      padding: 0 0 0 0;\n",
              "      width: 32px;\n",
              "    }\n",
              "\n",
              "    .colab-df-convert:hover {\n",
              "      background-color: #E2EBFA;\n",
              "      box-shadow: 0px 1px 2px rgba(60, 64, 67, 0.3), 0px 1px 3px 1px rgba(60, 64, 67, 0.15);\n",
              "      fill: #174EA6;\n",
              "    }\n",
              "\n",
              "    .colab-df-buttons div {\n",
              "      margin-bottom: 4px;\n",
              "    }\n",
              "\n",
              "    [theme=dark] .colab-df-convert {\n",
              "      background-color: #3B4455;\n",
              "      fill: #D2E3FC;\n",
              "    }\n",
              "\n",
              "    [theme=dark] .colab-df-convert:hover {\n",
              "      background-color: #434B5C;\n",
              "      box-shadow: 0px 1px 3px 1px rgba(0, 0, 0, 0.15);\n",
              "      filter: drop-shadow(0px 1px 2px rgba(0, 0, 0, 0.3));\n",
              "      fill: #FFFFFF;\n",
              "    }\n",
              "  </style>\n",
              "\n",
              "    <script>\n",
              "      const buttonEl =\n",
              "        document.querySelector('#df-1e1e16f9-892d-4692-8ed6-a3fd46531386 button.colab-df-convert');\n",
              "      buttonEl.style.display =\n",
              "        google.colab.kernel.accessAllowed ? 'block' : 'none';\n",
              "\n",
              "      async function convertToInteractive(key) {\n",
              "        const element = document.querySelector('#df-1e1e16f9-892d-4692-8ed6-a3fd46531386');\n",
              "        const dataTable =\n",
              "          await google.colab.kernel.invokeFunction('convertToInteractive',\n",
              "                                                    [key], {});\n",
              "        if (!dataTable) return;\n",
              "\n",
              "        const docLinkHtml = 'Like what you see? Visit the ' +\n",
              "          '<a target=\"_blank\" href=https://colab.research.google.com/notebooks/data_table.ipynb>data table notebook</a>'\n",
              "          + ' to learn more about interactive tables.';\n",
              "        element.innerHTML = '';\n",
              "        dataTable['output_type'] = 'display_data';\n",
              "        await google.colab.output.renderOutput(dataTable, element);\n",
              "        const docLink = document.createElement('div');\n",
              "        docLink.innerHTML = docLinkHtml;\n",
              "        element.appendChild(docLink);\n",
              "      }\n",
              "    </script>\n",
              "  </div>\n",
              "\n",
              "\n",
              "<div id=\"df-e1790b64-c7c8-4357-87c8-68e6a81610d5\">\n",
              "  <button class=\"colab-df-quickchart\" onclick=\"quickchart('df-e1790b64-c7c8-4357-87c8-68e6a81610d5')\"\n",
              "            title=\"Suggest charts\"\n",
              "            style=\"display:none;\">\n",
              "\n",
              "<svg xmlns=\"http://www.w3.org/2000/svg\" height=\"24px\"viewBox=\"0 0 24 24\"\n",
              "     width=\"24px\">\n",
              "    <g>\n",
              "        <path d=\"M19 3H5c-1.1 0-2 .9-2 2v14c0 1.1.9 2 2 2h14c1.1 0 2-.9 2-2V5c0-1.1-.9-2-2-2zM9 17H7v-7h2v7zm4 0h-2V7h2v10zm4 0h-2v-4h2v4z\"/>\n",
              "    </g>\n",
              "</svg>\n",
              "  </button>\n",
              "\n",
              "<style>\n",
              "  .colab-df-quickchart {\n",
              "      --bg-color: #E8F0FE;\n",
              "      --fill-color: #1967D2;\n",
              "      --hover-bg-color: #E2EBFA;\n",
              "      --hover-fill-color: #174EA6;\n",
              "      --disabled-fill-color: #AAA;\n",
              "      --disabled-bg-color: #DDD;\n",
              "  }\n",
              "\n",
              "  [theme=dark] .colab-df-quickchart {\n",
              "      --bg-color: #3B4455;\n",
              "      --fill-color: #D2E3FC;\n",
              "      --hover-bg-color: #434B5C;\n",
              "      --hover-fill-color: #FFFFFF;\n",
              "      --disabled-bg-color: #3B4455;\n",
              "      --disabled-fill-color: #666;\n",
              "  }\n",
              "\n",
              "  .colab-df-quickchart {\n",
              "    background-color: var(--bg-color);\n",
              "    border: none;\n",
              "    border-radius: 50%;\n",
              "    cursor: pointer;\n",
              "    display: none;\n",
              "    fill: var(--fill-color);\n",
              "    height: 32px;\n",
              "    padding: 0;\n",
              "    width: 32px;\n",
              "  }\n",
              "\n",
              "  .colab-df-quickchart:hover {\n",
              "    background-color: var(--hover-bg-color);\n",
              "    box-shadow: 0 1px 2px rgba(60, 64, 67, 0.3), 0 1px 3px 1px rgba(60, 64, 67, 0.15);\n",
              "    fill: var(--button-hover-fill-color);\n",
              "  }\n",
              "\n",
              "  .colab-df-quickchart-complete:disabled,\n",
              "  .colab-df-quickchart-complete:disabled:hover {\n",
              "    background-color: var(--disabled-bg-color);\n",
              "    fill: var(--disabled-fill-color);\n",
              "    box-shadow: none;\n",
              "  }\n",
              "\n",
              "  .colab-df-spinner {\n",
              "    border: 2px solid var(--fill-color);\n",
              "    border-color: transparent;\n",
              "    border-bottom-color: var(--fill-color);\n",
              "    animation:\n",
              "      spin 1s steps(1) infinite;\n",
              "  }\n",
              "\n",
              "  @keyframes spin {\n",
              "    0% {\n",
              "      border-color: transparent;\n",
              "      border-bottom-color: var(--fill-color);\n",
              "      border-left-color: var(--fill-color);\n",
              "    }\n",
              "    20% {\n",
              "      border-color: transparent;\n",
              "      border-left-color: var(--fill-color);\n",
              "      border-top-color: var(--fill-color);\n",
              "    }\n",
              "    30% {\n",
              "      border-color: transparent;\n",
              "      border-left-color: var(--fill-color);\n",
              "      border-top-color: var(--fill-color);\n",
              "      border-right-color: var(--fill-color);\n",
              "    }\n",
              "    40% {\n",
              "      border-color: transparent;\n",
              "      border-right-color: var(--fill-color);\n",
              "      border-top-color: var(--fill-color);\n",
              "    }\n",
              "    60% {\n",
              "      border-color: transparent;\n",
              "      border-right-color: var(--fill-color);\n",
              "    }\n",
              "    80% {\n",
              "      border-color: transparent;\n",
              "      border-right-color: var(--fill-color);\n",
              "      border-bottom-color: var(--fill-color);\n",
              "    }\n",
              "    90% {\n",
              "      border-color: transparent;\n",
              "      border-bottom-color: var(--fill-color);\n",
              "    }\n",
              "  }\n",
              "</style>\n",
              "\n",
              "  <script>\n",
              "    async function quickchart(key) {\n",
              "      const quickchartButtonEl =\n",
              "        document.querySelector('#' + key + ' button');\n",
              "      quickchartButtonEl.disabled = true;  // To prevent multiple clicks.\n",
              "      quickchartButtonEl.classList.add('colab-df-spinner');\n",
              "      try {\n",
              "        const charts = await google.colab.kernel.invokeFunction(\n",
              "            'suggestCharts', [key], {});\n",
              "      } catch (error) {\n",
              "        console.error('Error during call to suggestCharts:', error);\n",
              "      }\n",
              "      quickchartButtonEl.classList.remove('colab-df-spinner');\n",
              "      quickchartButtonEl.classList.add('colab-df-quickchart-complete');\n",
              "    }\n",
              "    (() => {\n",
              "      let quickchartButtonEl =\n",
              "        document.querySelector('#df-e1790b64-c7c8-4357-87c8-68e6a81610d5 button');\n",
              "      quickchartButtonEl.style.display =\n",
              "        google.colab.kernel.accessAllowed ? 'block' : 'none';\n",
              "    })();\n",
              "  </script>\n",
              "</div>\n",
              "\n",
              "    </div>\n",
              "  </div>\n"
            ],
            "application/vnd.google.colaboratory.intrinsic+json": {
              "type": "dataframe",
              "summary": "{\n  \"name\": \"df\",\n  \"rows\": 4,\n  \"fields\": [\n    {\n      \"column\": \"Provinsi;Kabupaten/Kota;Jenis_Ikan;Tahun;Volume_Produksi;Nilai_Produksi;Harga_Lele;                                        \",\n      \"properties\": {\n        \"dtype\": \"string\",\n        \"num_unique_values\": 3,\n        \"samples\": [\n          \"500\",\n          \"JAWA BARAT;BANDUNG;LELE;2019;5.372.785 ; Rp85.964.560.000 ;Rp16000.0;\",\n          \"1\"\n        ],\n        \"semantic_type\": \"\",\n        \"description\": \"\"\n      }\n    }\n  ]\n}"
            }
          },
          "metadata": {},
          "execution_count": 59
        },
        {
          "output_type": "display_data",
          "data": {
            "text/plain": [
              "<Figure size 800x800 with 1 Axes>"
            ],
            "image/png": "[encoded data removed]"
          },
          "metadata": {}
        }
      ]
    },
    {
      "cell_type": "code",
      "source": [
        "data_long = pd.melt(data, id_vars=['Provinsi', 'Kabupaten/Kota', 'Jenis_Ikan', 'Tahun'],\n",
        "                    var_name='Variabel', value_name='Nilai')\n",
        "\n",
        "\n",
        "\n",
        "\n",
        "data_wide = data_long.pivot(index=['Provinsi', 'Kabupaten/Kota', 'Jenis_Ikan', 'Tahun'],\n",
        "                            columns='Variabel', values='Nilai').reset_index()"
      ],
      "metadata": {
        "id": "uO1D0Ae6739W"
      },
      "execution_count": null,
      "outputs": []
    },
    {
      "cell_type": "code",
      "source": [
        "import plotly.express as px\n",
        "\n",
        "# Convert 'Volume_Produksi' column to numeric, handling potential errors\n",
        "data[\"Volume_Produksi\"] = pd.to_numeric(data[\"Volume_Produksi\"], errors='coerce')\n",
        "\n",
        "fig = px.scatter(data, x=\"Volume_Produksi\", y=\"Nilai_Produksi\", size=\"Volume_Produksi\")\n",
        "fig.show()"
      ],
      "metadata": {
        "id": "pcl6eDn6uYae",
        "outputId": "0af8bbc5-03a3-429f-d176-0ac3600aab04",
        "colab": {
          "base_uri": "https://localhost:8080/",
          "height": 681
        }
      },
      "execution_count": null,
      "outputs": [
        {
          "output_type": "stream",
          "name": "stderr",
          "text": [
            "<ipython-input-42-0d9eccbc01a2>:4: SettingWithCopyWarning:\n",
            "\n",
            "\n",
            "A value is trying to be set on a copy of a slice from a DataFrame.\n",
            "Try using .loc[row_indexer,col_indexer] = value instead\n",
            "\n",
            "See the caveats in the documentation: https://pandas.pydata.org/pandas-docs/stable/user_guide/indexing.html#returning-a-view-versus-a-copy\n",
            "\n"
          ]
        },
        {
          "output_type": "display_data",
          "data": {
            "text/html": [
              "<html>\n",
              "<head><meta charset=\"utf-8\" /></head>\n",
              "<body>\n",
              "    <div>            <script src=\"https://cdnjs.cloudflare.com/ajax/libs/mathjax/2.7.5/MathJax.js?config=TeX-AMS-MML_SVG\"></script><script type=\"text/javascript\">if (window.MathJax && window.MathJax.Hub && window.MathJax.Hub.Config) {window.MathJax.Hub.Config({SVG: {font: \"STIX-Web\"}});}</script>                <script type=\"text/javascript\">window.PlotlyConfig = {MathJaxConfig: 'local'};</script>\n",
              "        <script charset=\"utf-8\" src=\"https://cdn.plot.ly/plotly-2.35.2.min.js\"></script>                <div id=\"4f35ce03-8ed4-4649-b43b-ac18cfa6899c\" class=\"plotly-graph-div\" style=\"height:525px; width:100%;\"></div>            <script type=\"text/javascript\">                                    window.PLOTLYENV=window.PLOTLYENV || {};                                    if (document.getElementById(\"4f35ce03-8ed4-4649-b43b-ac18cfa6899c\")) {                    Plotly.newPlot(                        \"4f35ce03-8ed4-4649-b43b-ac18cfa6899c\",                        [{\"hovertemplate\":\"Volume_Produksi=%{marker.size}\\u003cbr\\u003eNilai_Produksi=%{y}\\u003cextra\\u003e\\u003c\\u002fextra\\u003e\",\"legendgroup\":\"\",\"marker\":{\"color\":\"#636efa\",\"size\":[759.058,51.015,290.733,207.624,73.645,105.6,487.934,60.224,568.59,125.302,319.235,923.807,62.374,37.46,782.28,42.574,16.185,806.088,579.659,958.941,871.812,504.187,91.952,684.461,32.945,86.415,135.9,168.9,113.97,110.767,47.578,234.62,765.081,711.85,940.38,462.691,634.25,758.63,100.722,185.865,170.428,766.39,74.448,300.47,190.774,83.928,94.18,656.683,28.459,600.78,680.731,257.263,47.06,91.403,710.988,145.877,34.873,16.365,915.593,510.066,978.759,878.032,520.511,413.27,685.612,21.664,96.026,122.65,168.9,112.13,196.3,241.518,143.87,718.649,907.576,378.641,702.046,710.4,109.866,210.09,215.706,774.5,143.956,318.545,176.126,73.34,150.101,713.39,30.871,604.28,479.545,773.01,37.25,71.15,689.719,182.735,42.017,16.575,531.491,998.002,722.753,474.553,332.8,662.298,24.897,101.25,149.8,177.048,126.15,185.1,270.611,207.862,747.485,943.855,626.0,441.929,523.222,763.11,123.05,268.104,281.86,800.247,143.439,317.776,239.43,72.878,146.75,717.371,25.172,802.31,279.317,776.915,28.7,92.495,614.975,207.764,41.919,16.727,546.904,989.9,784.34,560.792,313.8,752.068,25.44,106.48,174.67,183.91,109.7,199.1,733.863,195.12,396.051,721.13,471.26,141.164,249.865,286.659,157.29,321.434,213.956,70.775,566.106,720.139,15.871,853.49,161.974,773.518,38.1,130.52,605.904,192.453,43.712,16.893,557.839,999.586,544.978,392.3,917.712,28.575,111.49,179.2,188.66,91.5,210.1,230.08,241.704,420.507,719.322,682.6,190.339,526.799,295.705],\"sizemode\":\"area\",\"sizeref\":2.498965,\"symbol\":\"circle\"},\"mode\":\"markers\",\"name\":\"\",\"orientation\":\"h\",\"showlegend\":false,\"x\":[759.058,51.015,290.733,207.624,73.645,105.6,487.934,60.224,568.59,125.302,319.235,923.807,62.374,37.46,782.28,42.574,16.185,806.088,579.659,958.941,871.812,504.187,91.952,684.461,32.945,86.415,135.9,168.9,113.97,110.767,47.578,234.62,765.081,711.85,940.38,462.691,634.25,758.63,100.722,185.865,170.428,766.39,74.448,300.47,190.774,83.928,94.18,656.683,28.459,600.78,680.731,257.263,47.06,91.403,710.988,145.877,34.873,16.365,915.593,510.066,978.759,878.032,520.511,413.27,685.612,21.664,96.026,122.65,168.9,112.13,196.3,241.518,143.87,718.649,907.576,378.641,702.046,710.4,109.866,210.09,215.706,774.5,143.956,318.545,176.126,73.34,150.101,713.39,30.871,604.28,479.545,773.01,37.25,71.15,689.719,182.735,42.017,16.575,531.491,998.002,722.753,474.553,332.8,662.298,24.897,101.25,149.8,177.048,126.15,185.1,270.611,207.862,747.485,943.855,626.0,441.929,523.222,763.11,123.05,268.104,281.86,800.247,143.439,317.776,239.43,72.878,146.75,717.371,25.172,802.31,279.317,776.915,28.7,92.495,614.975,207.764,41.919,16.727,546.904,989.9,784.34,560.792,313.8,752.068,25.44,106.48,174.67,183.91,109.7,199.1,733.863,195.12,396.051,721.13,471.26,141.164,249.865,286.659,157.29,321.434,213.956,70.775,566.106,720.139,15.871,853.49,161.974,773.518,38.1,130.52,605.904,192.453,43.712,16.893,557.839,999.586,544.978,392.3,917.712,28.575,111.49,179.2,188.66,91.5,210.1,230.08,241.704,420.507,719.322,682.6,190.339,526.799,295.705],\"xaxis\":\"x\",\"y\":[\" Rp9.108.696.000 \",\" Rp867.255.000 \",\" Rp4.360.995.000 \",\" Rp3.737.232.000 \",\" Rp1.104.675.000 \",\" Rp2.006.400.000 \",\" Rp9.758.680.000 \",\" Rp978.712.400 \",\" Rp8.810.290.000 \",\" Rp2.211.456.619 \",\" Rp5.426.995.000 \",\" Rp14.780.912.000 \",\" Rp1.029.171.000 \",\" Rp674.280.000 \",\" Rp12.516.480.000 \",\" Rp804.338.000 \",\" Rp282.810.000 \",\" Rp13.703.496.000 \",\" Rp9.775.948.750 \",\" Rp17.260.938.000 \",\" Rp15.131.764.000 \",\" Rp8.066.992.000 \",\" Rp1.839.040.000 \",\" Rp16.427.064.000 \",\" Rp560.065.000 \",\" Rp1.455.874.000 \",\" Rp2.122.936.700 \",\" Rp2.702.400.000 \",\" Rp1.823.520.000 \",\" Rp1.827.655.500 \",\" Rp729.336.000 \",\" Rp3.606.840.003 \",\" Rp13.771.458.000 \",\" Rp10.677.750.000 \",\" Rp15.330.420.000 \",\" Rp6.940.365.000 \",\" Rp11.122.265.066 \",\" Rp11.758.765.000 \",\" Rp1.712.274.000 \",\" Rp3.102.332.000 \",\" Rp2.834.916.000 \",\" Rp9.196.680.000 \",\" Rp1.303.626.222 \",\" Rp4.507.050.000 \",\" Rp3.433.932.000 \",\" Rp1.302.091.860 \",\" Rp2.391.380.000 \",\" Rp13.133.660.000 \",\" Rp421.757.800 \",\" Rp9.300.070.000 \",\" Rp12.105.901.272 \",\" Rp4.373.471.000 \",\" Rp776.490.000 \",\" Rp1.645.254.000 \",\" Rp11.375.808.000 \",\" Rp2.506.952.500 \",\" Rp557.968.000 \",\" Rp278.205.000 \",\" Rp15.565.081.000 \",\" Rp8.543.117.784 \",\" Rp17.617.662.000 \",\" Rp14.926.544.000 \",\" Rp8.328.176.000 \",\" Rp7.025.590.000 \",\" Rp15.083.464.000 \",\" Rp368.288.000 \",\" Rp1.440.390.000 \",\" Rp1.904.675.002 \",\" Rp2.702.400.000 \",\" Rp1.870.670.000 \",\" Rp3.140.800.000 \",\" Rp3.622.770.000 \",\" Rp2.173.654.996 \",\" Rp12.935.682.000 \",\" Rp13.386.865.000 \",\" Rp5.858.725.650 \",\" Rp12.057.761.009 \",\" Rp10.835.994.997 \",\" Rp1.922.655.000 \",\" Rp3.403.870.000 \",\" Rp3.667.002.000 \",\" Rp9.294.000.000 \",\" Rp2.447.252.000 \",\" Rp4.778.175.000 \",\" Rp3.170.268.000 \",\" Rp1.173.440.000 \",\" Rp3.228.081.000 \",\" Rp12.841.020.000 \",\" Rp459.674.700 \",\" Rp9.668.480.000 \",\" Rp8.676.861.165 \",\" Rp13.141.170.000 \",\" Rp614.625.000 \",\" Rp1.280.700.000 \",\" Rp11.380.363.500 \",\" Rp3.017.701.000 \",\" Rp714.289.000 \",\" Rp281.775.000 \",\" Rp8.480.034.668 \",\" Rp17.964.036.000 \",\" Rp13.009.554.000 \",\" Rp7.830.124.500 \",\" Rp5.657.600.000 \",\" Rp14.570.556.000 \",\" Rp411.741.000 \",\" Rp1.545.600.000 \",\" Rp2.352.800.003 \",\" Rp2.832.768.000 \",\" Rp2.207.625.000 \",\" Rp3.097.950.000 \",\" Rp4.059.165.000 \",\" Rp3.228.459.903 \",\" Rp13.454.730.000 \",\" Rp14.869.047.500 \",\" Rp10.016.000.000 \",\" Rp7.512.793.000 \",\" Rp9.048.975.600 \",\" Rp11.769.569.999 \",\" Rp2.214.900.000 \",\" Rp4.289.664.000 \",\" Rp4.791.620.000 \",\" Rp9.602.964.000 \",\" Rp2.811.912.000 \",\" Rp4.766.640.000 \",\" Rp4.549.170.000 \",\" Rp1.188.944.000 \",\" Rp4.329.470.000 \",\" Rp12.912.678.000 \",\" Rp407.354.150 \",\" Rp14.047.500.000 \",\" Rp5.168.983.634 \",\" Rp13.984.470.000 \",\" Rp492.500.000 \",\" Rp1.757.405.000 \",\" Rp11.684.525.000 \",\" Rp3.947.516.000 \",\" Rp712.623.000 \",\" Rp284.359.000 \",\" Rp10.001.878.682 \",\" Rp18.764.476.000 \",\" Rp13.725.950.000 \",\" Rp10.094.256.000 \",\" Rp6.142.800.000 \",\" Rp16.545.496.000 \",\" Rp457.920.000 \",\" Rp1.804.080.000 \",\" Rp2.789.994.995 \",\" Rp3.147.610.000 \",\" Rp2.021.800.000 \",\" Rp3.360.025.000 \",\" Rp11.007.945.000 \",\" Rp3.486.222.494 \",\" Rp7.143.007.000 \",\" Rp13.393.770.500 \",\" Rp7.955.789.992 \",\" Rp2.771.686.000 \",\" Rp4.253.244.000 \",\" Rp5.733.180.000 \",\" Rp3.145.800.000 \",\" Rp4.821.510.000 \",\" Rp4.065.164.000 \",\" Rp1.168.192.720 \",\" Rp14.152.650.000 \",\" Rp12.962.502.000 \",\" Rp269.807.000 \",\" Rp17.069.800.000 \",\" Rp3.057.783.900 \",\" Rp14.290.492.000 \",\" Rp666.750.000 \",\" Rp2.479.880.000 \",\" Rp10.300.368.000 \",\" Rp4.384.035.500 \",\" Rp830.528.000 \",\" Rp295.627.500 \",\" Rp10.390.421.500 \",\" Rp19.885.464.000 \",\" Rp10.162.082.000 \",\" Rp7.846.000.000 \",\" Rp20.189.664.000 \",\" Rp514.350.000 \",\" Rp1.948.760.000 \",\" Rp3.292.029.995 \",\" Rp3.467.110.000 \",\" Rp1.738.500.000 \",\" Rp5.042.400.000 \",\" Rp3.807.261.000 \",\" Rp4.725.142.662 \",\" Rp7.148.619.000 \",\" Rp13.634.545.500 \",\" Rp12.286.800.000 \",\" Rp4.335.019.000 \",\" Rp10.009.181.000 \",\" Rp6.059.545.000 \"],\"yaxis\":\"y\",\"type\":\"scatter\"}],                        {\"template\":{\"data\":{\"histogram2dcontour\":[{\"type\":\"histogram2dcontour\",\"colorbar\":{\"outlinewidth\":0,\"ticks\":\"\"},\"colorscale\":[[0.0,\"#0d0887\"],[0.1111111111111111,\"#46039f\"],[0.2222222222222222,\"#7201a8\"],[0.3333333333333333,\"#9c179e\"],[0.4444444444444444,\"#bd3786\"],[0.5555555555555556,\"#d8576b\"],[0.6666666666666666,\"#ed7953\"],[0.7777777777777778,\"#fb9f3a\"],[0.8888888888888888,\"#fdca26\"],[1.0,\"#f0f921\"]]}],\"choropleth\":[{\"type\":\"choropleth\",\"colorbar\":{\"outlinewidth\":0,\"ticks\":\"\"}}],\"histogram2d\":[{\"type\":\"histogram2d\",\"colorbar\":{\"outlinewidth\":0,\"ticks\":\"\"},\"colorscale\":[[0.0,\"#0d0887\"],[0.1111111111111111,\"#46039f\"],[0.2222222222222222,\"#7201a8\"],[0.3333333333333333,\"#9c179e\"],[0.4444444444444444,\"#bd3786\"],[0.5555555555555556,\"#d8576b\"],[0.6666666666666666,\"#ed7953\"],[0.7777777777777778,\"#fb9f3a\"],[0.8888888888888888,\"#fdca26\"],[1.0,\"#f0f921\"]]}],\"heatmap\":[{\"type\":\"heatmap\",\"colorbar\":{\"outlinewidth\":0,\"ticks\":\"\"},\"colorscale\":[[0.0,\"#0d0887\"],[0.1111111111111111,\"#46039f\"],[0.2222222222222222,\"#7201a8\"],[0.3333333333333333,\"#9c179e\"],[0.4444444444444444,\"#bd3786\"],[0.5555555555555556,\"#d8576b\"],[0.6666666666666666,\"#ed7953\"],[0.7777777777777778,\"#fb9f3a\"],[0.8888888888888888,\"#fdca26\"],[1.0,\"#f0f921\"]]}],\"heatmapgl\":[{\"type\":\"heatmapgl\",\"colorbar\":{\"outlinewidth\":0,\"ticks\":\"\"},\"colorscale\":[[0.0,\"#0d0887\"],[0.1111111111111111,\"#46039f\"],[0.2222222222222222,\"#7201a8\"],[0.3333333333333333,\"#9c179e\"],[0.4444444444444444,\"#bd3786\"],[0.5555555555555556,\"#d8576b\"],[0.6666666666666666,\"#ed7953\"],[0.7777777777777778,\"#fb9f3a\"],[0.8888888888888888,\"#fdca26\"],[1.0,\"#f0f921\"]]}],\"contourcarpet\":[{\"type\":\"contourcarpet\",\"colorbar\":{\"outlinewidth\":0,\"ticks\":\"\"}}],\"contour\":[{\"type\":\"contour\",\"colorbar\":{\"outlinewidth\":0,\"ticks\":\"\"},\"colorscale\":[[0.0,\"#0d0887\"],[0.1111111111111111,\"#46039f\"],[0.2222222222222222,\"#7201a8\"],[0.3333333333333333,\"#9c179e\"],[0.4444444444444444,\"#bd3786\"],[0.5555555555555556,\"#d8576b\"],[0.6666666666666666,\"#ed7953\"],[0.7777777777777778,\"#fb9f3a\"],[0.8888888888888888,\"#fdca26\"],[1.0,\"#f0f921\"]]}],\"surface\":[{\"type\":\"surface\",\"colorbar\":{\"outlinewidth\":0,\"ticks\":\"\"},\"colorscale\":[[0.0,\"#0d0887\"],[0.1111111111111111,\"#46039f\"],[0.2222222222222222,\"#7201a8\"],[0.3333333333333333,\"#9c179e\"],[0.4444444444444444,\"#bd3786\"],[0.5555555555555556,\"#d8576b\"],[0.6666666666666666,\"#ed7953\"],[0.7777777777777778,\"#fb9f3a\"],[0.8888888888888888,\"#fdca26\"],[1.0,\"#f0f921\"]]}],\"mesh3d\":[{\"type\":\"mesh3d\",\"colorbar\":{\"outlinewidth\":0,\"ticks\":\"\"}}],\"scatter\":[{\"fillpattern\":{\"fillmode\":\"overlay\",\"size\":10,\"solidity\":0.2},\"type\":\"scatter\"}],\"parcoords\":[{\"type\":\"parcoords\",\"line\":{\"colorbar\":{\"outlinewidth\":0,\"ticks\":\"\"}}}],\"scatterpolargl\":[{\"type\":\"scatterpolargl\",\"marker\":{\"colorbar\":{\"outlinewidth\":0,\"ticks\":\"\"}}}],\"bar\":[{\"error_x\":{\"color\":\"#2a3f5f\"},\"error_y\":{\"color\":\"#2a3f5f\"},\"marker\":{\"line\":{\"color\":\"#E5ECF6\",\"width\":0.5},\"pattern\":{\"fillmode\":\"overlay\",\"size\":10,\"solidity\":0.2}},\"type\":\"bar\"}],\"scattergeo\":[{\"type\":\"scattergeo\",\"marker\":{\"colorbar\":{\"outlinewidth\":0,\"ticks\":\"\"}}}],\"scatterpolar\":[{\"type\":\"scatterpolar\",\"marker\":{\"colorbar\":{\"outlinewidth\":0,\"ticks\":\"\"}}}],\"histogram\":[{\"marker\":{\"pattern\":{\"fillmode\":\"overlay\",\"size\":10,\"solidity\":0.2}},\"type\":\"histogram\"}],\"scattergl\":[{\"type\":\"scattergl\",\"marker\":{\"colorbar\":{\"outlinewidth\":0,\"ticks\":\"\"}}}],\"scatter3d\":[{\"type\":\"scatter3d\",\"line\":{\"colorbar\":{\"outlinewidth\":0,\"ticks\":\"\"}},\"marker\":{\"colorbar\":{\"outlinewidth\":0,\"ticks\":\"\"}}}],\"scattermapbox\":[{\"type\":\"scattermapbox\",\"marker\":{\"colorbar\":{\"outlinewidth\":0,\"ticks\":\"\"}}}],\"scatterternary\":[{\"type\":\"scatterternary\",\"marker\":{\"colorbar\":{\"outlinewidth\":0,\"ticks\":\"\"}}}],\"scattercarpet\":[{\"type\":\"scattercarpet\",\"marker\":{\"colorbar\":{\"outlinewidth\":0,\"ticks\":\"\"}}}],\"carpet\":[{\"aaxis\":{\"endlinecolor\":\"#2a3f5f\",\"gridcolor\":\"white\",\"linecolor\":\"white\",\"minorgridcolor\":\"white\",\"startlinecolor\":\"#2a3f5f\"},\"baxis\":{\"endlinecolor\":\"#2a3f5f\",\"gridcolor\":\"white\",\"linecolor\":\"white\",\"minorgridcolor\":\"white\",\"startlinecolor\":\"#2a3f5f\"},\"type\":\"carpet\"}],\"table\":[{\"cells\":{\"fill\":{\"color\":\"#EBF0F8\"},\"line\":{\"color\":\"white\"}},\"header\":{\"fill\":{\"color\":\"#C8D4E3\"},\"line\":{\"color\":\"white\"}},\"type\":\"table\"}],\"barpolar\":[{\"marker\":{\"line\":{\"color\":\"#E5ECF6\",\"width\":0.5},\"pattern\":{\"fillmode\":\"overlay\",\"size\":10,\"solidity\":0.2}},\"type\":\"barpolar\"}],\"pie\":[{\"automargin\":true,\"type\":\"pie\"}]},\"layout\":{\"autotypenumbers\":\"strict\",\"colorway\":[\"#636efa\",\"#EF553B\",\"#00cc96\",\"#ab63fa\",\"#FFA15A\",\"#19d3f3\",\"#FF6692\",\"#B6E880\",\"#FF97FF\",\"#FECB52\"],\"font\":{\"color\":\"#2a3f5f\"},\"hovermode\":\"closest\",\"hoverlabel\":{\"align\":\"left\"},\"paper_bgcolor\":\"white\",\"plot_bgcolor\":\"#E5ECF6\",\"polar\":{\"bgcolor\":\"#E5ECF6\",\"angularaxis\":{\"gridcolor\":\"white\",\"linecolor\":\"white\",\"ticks\":\"\"},\"radialaxis\":{\"gridcolor\":\"white\",\"linecolor\":\"white\",\"ticks\":\"\"}},\"ternary\":{\"bgcolor\":\"#E5ECF6\",\"aaxis\":{\"gridcolor\":\"white\",\"linecolor\":\"white\",\"ticks\":\"\"},\"baxis\":{\"gridcolor\":\"white\",\"linecolor\":\"white\",\"ticks\":\"\"},\"caxis\":{\"gridcolor\":\"white\",\"linecolor\":\"white\",\"ticks\":\"\"}},\"coloraxis\":{\"colorbar\":{\"outlinewidth\":0,\"ticks\":\"\"}},\"colorscale\":{\"sequential\":[[0.0,\"#0d0887\"],[0.1111111111111111,\"#46039f\"],[0.2222222222222222,\"#7201a8\"],[0.3333333333333333,\"#9c179e\"],[0.4444444444444444,\"#bd3786\"],[0.5555555555555556,\"#d8576b\"],[0.6666666666666666,\"#ed7953\"],[0.7777777777777778,\"#fb9f3a\"],[0.8888888888888888,\"#fdca26\"],[1.0,\"#f0f921\"]],\"sequentialminus\":[[0.0,\"#0d0887\"],[0.1111111111111111,\"#46039f\"],[0.2222222222222222,\"#7201a8\"],[0.3333333333333333,\"#9c179e\"],[0.4444444444444444,\"#bd3786\"],[0.5555555555555556,\"#d8576b\"],[0.6666666666666666,\"#ed7953\"],[0.7777777777777778,\"#fb9f3a\"],[0.8888888888888888,\"#fdca26\"],[1.0,\"#f0f921\"]],\"diverging\":[[0,\"#8e0152\"],[0.1,\"#c51b7d\"],[0.2,\"#de77ae\"],[0.3,\"#f1b6da\"],[0.4,\"#fde0ef\"],[0.5,\"#f7f7f7\"],[0.6,\"#e6f5d0\"],[0.7,\"#b8e186\"],[0.8,\"#7fbc41\"],[0.9,\"#4d9221\"],[1,\"#276419\"]]},\"xaxis\":{\"gridcolor\":\"white\",\"linecolor\":\"white\",\"ticks\":\"\",\"title\":{\"standoff\":15},\"zerolinecolor\":\"white\",\"automargin\":true,\"zerolinewidth\":2},\"yaxis\":{\"gridcolor\":\"white\",\"linecolor\":\"white\",\"ticks\":\"\",\"title\":{\"standoff\":15},\"zerolinecolor\":\"white\",\"automargin\":true,\"zerolinewidth\":2},\"scene\":{\"xaxis\":{\"backgroundcolor\":\"#E5ECF6\",\"gridcolor\":\"white\",\"linecolor\":\"white\",\"showbackground\":true,\"ticks\":\"\",\"zerolinecolor\":\"white\",\"gridwidth\":2},\"yaxis\":{\"backgroundcolor\":\"#E5ECF6\",\"gridcolor\":\"white\",\"linecolor\":\"white\",\"showbackground\":true,\"ticks\":\"\",\"zerolinecolor\":\"white\",\"gridwidth\":2},\"zaxis\":{\"backgroundcolor\":\"#E5ECF6\",\"gridcolor\":\"white\",\"linecolor\":\"white\",\"showbackground\":true,\"ticks\":\"\",\"zerolinecolor\":\"white\",\"gridwidth\":2}},\"shapedefaults\":{\"line\":{\"color\":\"#2a3f5f\"}},\"annotationdefaults\":{\"arrowcolor\":\"#2a3f5f\",\"arrowhead\":0,\"arrowwidth\":1},\"geo\":{\"bgcolor\":\"white\",\"landcolor\":\"#E5ECF6\",\"subunitcolor\":\"white\",\"showland\":true,\"showlakes\":true,\"lakecolor\":\"white\"},\"title\":{\"x\":0.05},\"mapbox\":{\"style\":\"light\"}}},\"xaxis\":{\"anchor\":\"y\",\"domain\":[0.0,1.0],\"title\":{\"text\":\"Volume_Produksi\"}},\"yaxis\":{\"anchor\":\"x\",\"domain\":[0.0,1.0],\"title\":{\"text\":\"Nilai_Produksi\"}},\"legend\":{\"tracegroupgap\":0,\"itemsizing\":\"constant\"},\"margin\":{\"t\":60}},                        {\"responsive\": true}                    ).then(function(){\n",
              "                            \n",
              "var gd = document.getElementById('4f35ce03-8ed4-4649-b43b-ac18cfa6899c');\n",
              "var x = new MutationObserver(function (mutations, observer) {{\n",
              "        var display = window.getComputedStyle(gd).display;\n",
              "        if (!display || display === 'none') {{\n",
              "            console.log([gd, 'removed!']);\n",
              "            Plotly.purge(gd);\n",
              "            observer.disconnect();\n",
              "        }}\n",
              "}});\n",
              "\n",
              "// Listen for the removal of the full notebook cells\n",
              "var notebookContainer = gd.closest('#notebook-container');\n",
              "if (notebookContainer) {{\n",
              "    x.observe(notebookContainer, {childList: true});\n",
              "}}\n",
              "\n",
              "// Listen for the clearing of the current output cell\n",
              "var outputEl = gd.closest('.output');\n",
              "if (outputEl) {{\n",
              "    x.observe(outputEl, {childList: true});\n",
              "}}\n",
              "\n",
              "                        })                };                            </script>        </div>\n",
              "</body>\n",
              "</html>"
            ]
          },
          "metadata": {}
        }
      ]
    },
    {
      "cell_type": "code",
      "source": [
        "# Convert 'Volume_Produksi' column to numeric, handling potential errors\n",
        "data[\"Volume_Produksi\"] = pd.to_numeric(data[\"Volume_Produksi\"], errors='coerce')\n",
        "\n",
        "# Select only numeric columns for correlation calculation\n",
        "numeric_data = data.select_dtypes(include=['number'])\n",
        "\n",
        "# Calculate and print the correlation matrix\n",
        "print(numeric_data.corr())"
      ],
      "metadata": {
        "id": "u8x-a6nk0w0b",
        "outputId": "ec8927a2-bad5-4156-9975-4636780914df",
        "colab": {
          "base_uri": "https://localhost:8080/"
        }
      },
      "execution_count": null,
      "outputs": [
        {
          "output_type": "stream",
          "name": "stdout",
          "text": [
            "                                             Tahun  Volume_Produksi  \\\n",
            "Tahun                                     1.000000        -0.016463   \n",
            "Volume_Produksi                          -0.016463         1.000000   \n",
            "                                               NaN              NaN   \n",
            "\n",
            "                                                                                    \n",
            "Tahun                                                                          NaN  \n",
            "Volume_Produksi                                                                NaN  \n",
            "                                                                               NaN  \n"
          ]
        },
        {
          "output_type": "stream",
          "name": "stderr",
          "text": [
            "<ipython-input-44-67656acdbae3>:2: SettingWithCopyWarning:\n",
            "\n",
            "\n",
            "A value is trying to be set on a copy of a slice from a DataFrame.\n",
            "Try using .loc[row_indexer,col_indexer] = value instead\n",
            "\n",
            "See the caveats in the documentation: https://pandas.pydata.org/pandas-docs/stable/user_guide/indexing.html#returning-a-view-versus-a-copy\n",
            "\n"
          ]
        }
      ]
    },
    {
      "cell_type": "code",
      "source": [
        "import pandas as pd\n",
        "\n",
        "# Assuming 'data' is your dictionary\n",
        "data = pd.DataFrame(data)  # Convert the dictionary to a Pandas DataFrame\n",
        "\n",
        "# Now you can use isnull()\n",
        "data.isnull().sum()"
      ],
      "metadata": {
        "id": "bjfChbrjrujN",
        "outputId": "d2a62155-83ad-4d49-8661-95bfa055fc2f",
        "colab": {
          "base_uri": "https://localhost:8080/",
          "height": 115
        }
      },
      "execution_count": null,
      "outputs": [
        {
          "output_type": "execute_result",
          "data": {
            "text/plain": [
              "Provinsi    0\n",
              "dtype: int64"
            ],
            "text/html": [
              "<div>\n",
              "<style scoped>\n",
              "    .dataframe tbody tr th:only-of-type {\n",
              "        vertical-align: middle;\n",
              "    }\n",
              "\n",
              "    .dataframe tbody tr th {\n",
              "        vertical-align: top;\n",
              "    }\n",
              "\n",
              "    .dataframe thead th {\n",
              "        text-align: right;\n",
              "    }\n",
              "</style>\n",
              "<table border=\"1\" class=\"dataframe\">\n",
              "  <thead>\n",
              "    <tr style=\"text-align: right;\">\n",
              "      <th></th>\n",
              "      <th>0</th>\n",
              "    </tr>\n",
              "  </thead>\n",
              "  <tbody>\n",
              "    <tr>\n",
              "      <th>Provinsi</th>\n",
              "      <td>0</td>\n",
              "    </tr>\n",
              "  </tbody>\n",
              "</table>\n",
              "</div><br><label><b>dtype:</b> int64</label>"
            ]
          },
          "metadata": {},
          "execution_count": 24
        }
      ]
    },
    {
      "cell_type": "markdown",
      "source": [
        "One hot encoding"
      ],
      "metadata": {
        "id": "FUxZ0IwPdwYa"
      }
    },
    {
      "cell_type": "code",
      "source": [
        "import pandas as pd\n",
        "\n",
        "# Define 'data' as a dictionary with key-value pairs\n",
        "data = {'Provinsi': ['JAWA TIMUR', 'JAWA BARAT', 'JAWA TENGAH']}\n",
        "df = pd.DataFrame(data)\n",
        "\n",
        "# one-hot encoding using pandas\n",
        "encoded_df = pd.get_dummies(df, columns=['Provinsi'])\n",
        "\n",
        "# display results\n",
        "print(encoded_df)"
      ],
      "metadata": {
        "id": "G-rRdrhVdBPl",
        "outputId": "b2b3f095-ccc7-4532-8866-faa058585a55",
        "colab": {
          "base_uri": "https://localhost:8080/"
        }
      },
      "execution_count": null,
      "outputs": [
        {
          "output_type": "stream",
          "name": "stdout",
          "text": [
            "   Provinsi_JAWA BARAT  Provinsi_JAWA TENGAH  Provinsi_JAWA TIMUR\n",
            "0                False                 False                 True\n",
            "1                 True                 False                False\n",
            "2                False                  True                False\n"
          ]
        }
      ]
    },
    {
      "cell_type": "code",
      "source": [
        "# Asumsikan 'df_lain' adalah DataFrame yang berisi data lain\n",
        "df_gabungan = pd.concat([encoded_df, df_lain], axis=1)"
      ],
      "metadata": {
        "id": "nE572OlSq9uz",
        "outputId": "943b2c42-6695-45a5-cab5-e0625a7e1aff",
        "colab": {
          "base_uri": "https://localhost:8080/",
          "height": 159
        }
      },
      "execution_count": null,
      "outputs": [
        {
          "output_type": "error",
          "ename": "NameError",
          "evalue": "name 'df_lain' is not defined",
          "traceback": [
            "\u001b[0;31m---------------------------------------------------------------------------\u001b[0m",
            "\u001b[0;31mNameError\u001b[0m                                 Traceback (most recent call last)",
            "\u001b[0;32m<ipython-input-22-1c4446411f72>\u001b[0m in \u001b[0;36m<cell line: 2>\u001b[0;34m()\u001b[0m\n\u001b[1;32m      1\u001b[0m \u001b[0;31m# Asumsikan 'df_lain' adalah DataFrame yang berisi data lain\u001b[0m\u001b[0;34m\u001b[0m\u001b[0;34m\u001b[0m\u001b[0m\n\u001b[0;32m----> 2\u001b[0;31m \u001b[0mdf_gabungan\u001b[0m \u001b[0;34m=\u001b[0m \u001b[0mpd\u001b[0m\u001b[0;34m.\u001b[0m\u001b[0mconcat\u001b[0m\u001b[0;34m(\u001b[0m\u001b[0;34m[\u001b[0m\u001b[0mencoded_df\u001b[0m\u001b[0;34m,\u001b[0m \u001b[0mdf_lain\u001b[0m\u001b[0;34m]\u001b[0m\u001b[0;34m,\u001b[0m \u001b[0maxis\u001b[0m\u001b[0;34m=\u001b[0m\u001b[0;36m1\u001b[0m\u001b[0;34m)\u001b[0m\u001b[0;34m\u001b[0m\u001b[0;34m\u001b[0m\u001b[0m\n\u001b[0m",
            "\u001b[0;31mNameError\u001b[0m: name 'df_lain' is not defined"
          ]
        }
      ]
    }
  ],
  "metadata": {
    "colab": {
      "name": "scratchpad",
      "provenance": [],
      "include_colab_link": true
    },
    "kernelspec": {
      "display_name": "Python 3",
      "name": "python3"
    }
  },
  "nbformat": 4,
  "nbformat_minor": 0
}